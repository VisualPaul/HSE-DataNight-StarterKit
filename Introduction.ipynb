{
 "cells": [
  {
   "cell_type": "markdown",
   "metadata": {},
   "source": [
    "# Практическое руководство по анализу данных\n",
    "\n",
    "Официальное название: \"Визуализация, машинное обучение и неструктурированные данные: практическое руководство\"\n",
    "\n",
    "---"
   ]
  },
  {
   "cell_type": "markdown",
   "metadata": {},
   "source": [
    "# Рабочее окружение: Jupyter"
   ]
  },
  {
   "cell_type": "markdown",
   "metadata": {},
   "source": [
    "### Ноутбуки (тетрадки)\n",
    "\n",
    "- Разметка\n",
    "- Возможность вывода графиков, изображений и тд."
   ]
  },
  {
   "cell_type": "markdown",
   "metadata": {},
   "source": [
    "### Редактирование python-файлов\n",
    "\n",
    "- Как создавать файлы\n",
    "- Идея: выносить сложные куски кода в python-модули, в ноутбуке оставлять эксперименты"
   ]
  },
  {
   "cell_type": "markdown",
   "metadata": {},
   "source": [
    "### Работа в консоли\n",
    "\n",
    "- Вызов команд консоли из ноутбука: `!ls -l`\n",
    "- Использование терминала"
   ]
  },
  {
   "cell_type": "code",
   "execution_count": 1,
   "metadata": {
    "collapsed": false
   },
   "outputs": [
    {
     "name": "stdout",
     "output_type": "stream",
     "text": [
      "wget: missing URL\r\n",
      "Usage: wget [OPTION]... [URL]...\r\n",
      "\r\n",
      "Try `wget --help' for more options.\r\n"
     ]
    }
   ],
   "source": [
    "!wget"
   ]
  },
  {
   "cell_type": "code",
   "execution_count": null,
   "metadata": {
    "collapsed": true
   },
   "outputs": [],
   "source": [
    "!ls"
   ]
  },
  {
   "cell_type": "code",
   "execution_count": 3,
   "metadata": {
    "collapsed": false
   },
   "outputs": [
    {
     "name": "stdout",
     "output_type": "stream",
     "text": [
      "tar: Old option `f' requires an argument.\r\n",
      "Try `tar --help' or `tar --usage' for more information.\r\n"
     ]
    }
   ],
   "source": [
    "!tar xvf "
   ]
  },
  {
   "cell_type": "code",
   "execution_count": 4,
   "metadata": {
    "collapsed": false
   },
   "outputs": [
    {
     "name": "stdout",
     "output_type": "stream",
     "text": [
      "UnZip 6.00 of 20 April 2009, by Debian. Original by Info-ZIP.\r\n",
      "\r\n",
      "Usage: unzip [-Z] [-opts[modifiers]] file[.zip] [list] [-x xlist] [-d exdir]\r\n",
      "  Default action is to extract files in list, except those in xlist, to exdir;\r\n",
      "  file[.zip] may be a wildcard.  -Z => ZipInfo mode (\"unzip -Z\" for usage).\r\n",
      "\r\n",
      "  -p  extract files to pipe, no messages     -l  list files (short format)\r\n",
      "  -f  freshen existing files, create none    -t  test compressed archive data\r\n",
      "  -u  update files, create if necessary      -z  display archive comment only\r\n",
      "  -v  list verbosely/show version info       -T  timestamp archive to latest\r\n",
      "  -x  exclude files that follow (in xlist)   -d  extract files into exdir\r\n",
      "modifiers:\r\n",
      "  -n  never overwrite existing files         -q  quiet mode (-qq => quieter)\r\n",
      "  -o  overwrite files WITHOUT prompting      -a  auto-convert any text files\r\n",
      "  -j  junk paths (do not make directories)   -aa treat ALL files as text\r\n",
      "  -U  use escapes for all non-ASCII Unicode  -UU ignore any Unicode fields\r\n",
      "  -C  match filenames case-insensitively     -L  make (some) names lowercase\r\n",
      "  -X  restore UID/GID info                   -V  retain VMS version numbers\r\n",
      "  -K  keep setuid/setgid/tacky permissions   -M  pipe through \"more\" pager\r\n",
      "  -O CHARSET  specify a character encoding for DOS, Windows and OS/2 archives\r\n",
      "  -I CHARSET  specify a character encoding for UNIX and other archives\r\n",
      "\r\n",
      "See \"unzip -hh\" or unzip.txt for more help.  Examples:\r\n",
      "  unzip data1 -x joe   => extract all files except joe from zipfile data1.zip\r\n",
      "  unzip -p foo | more  => send contents of foo.zip via pipe into program more\r\n",
      "  unzip -fo foo ReadMe => quietly replace existing ReadMe if archive file newer\r\n"
     ]
    }
   ],
   "source": [
    "!unzip"
   ]
  },
  {
   "cell_type": "markdown",
   "metadata": {},
   "source": [
    "# Получение и работа с данными"
   ]
  },
  {
   "cell_type": "markdown",
   "metadata": {},
   "source": [
    "## Табличные данные"
   ]
  },
  {
   "cell_type": "code",
   "execution_count": 8,
   "metadata": {
    "collapsed": true
   },
   "outputs": [],
   "source": [
    "import pandas"
   ]
  },
  {
   "cell_type": "code",
   "execution_count": null,
   "metadata": {
    "collapsed": true
   },
   "outputs": [],
   "source": [
    "pandas.read_csv('http://')"
   ]
  },
  {
   "cell_type": "code",
   "execution_count": null,
   "metadata": {
    "collapsed": true
   },
   "outputs": [],
   "source": [
    "pandas.read_csv('')"
   ]
  },
  {
   "cell_type": "markdown",
   "metadata": {},
   "source": [
    "## Визуализация точек на карте\n",
    "\n",
    "Вставить сюда пример с [камерами видеонаблюдения](http://nbviewer.jupyter.org/github/romovpa/pygeoplot/blob/master/ipynb/DemoMoscowCCTV.ipynb)"
   ]
  },
  {
   "cell_type": "markdown",
   "metadata": {},
   "source": [
    "## Таблицы со станиц интернета"
   ]
  },
  {
   "cell_type": "code",
   "execution_count": 6,
   "metadata": {
    "collapsed": true
   },
   "outputs": [],
   "source": [
    "import pandas"
   ]
  },
  {
   "cell_type": "code",
   "execution_count": null,
   "metadata": {
    "collapsed": true
   },
   "outputs": [],
   "source": [
    "tables = pandas.read_html(\n",
    "    'https://en.wikipedia.org/w/index.php?search=Dow+Jones+Industrial+Average&title=Special%3ASearch&go=Go', \n",
    "    attrs={'class': 'wikitable'},  # фильтруем только таблицы с данными\n",
    "    header=0, # делаем первую строчку — заголовком\n",
    ")"
   ]
  },
  {
   "cell_type": "code",
   "execution_count": 16,
   "metadata": {
    "collapsed": false
   },
   "outputs": [
    {
     "data": {
      "text/html": [
       "<div>\n",
       "<table border=\"1\" class=\"dataframe\">\n",
       "  <thead>\n",
       "    <tr style=\"text-align: right;\">\n",
       "      <th></th>\n",
       "      <th>Company</th>\n",
       "      <th>Exchange</th>\n",
       "      <th>Symbol</th>\n",
       "      <th>Industry</th>\n",
       "      <th>Date Added</th>\n",
       "      <th>Notes</th>\n",
       "    </tr>\n",
       "  </thead>\n",
       "  <tbody>\n",
       "    <tr>\n",
       "      <th>0</th>\n",
       "      <td>3M</td>\n",
       "      <td>NYSE</td>\n",
       "      <td>MMM</td>\n",
       "      <td>Conglomerate</td>\n",
       "      <td>1976-08-09</td>\n",
       "      <td>as Minnesota Mining and Manufacturing</td>\n",
       "    </tr>\n",
       "    <tr>\n",
       "      <th>1</th>\n",
       "      <td>American Express</td>\n",
       "      <td>NYSE</td>\n",
       "      <td>AXP</td>\n",
       "      <td>Consumer finance</td>\n",
       "      <td>1982-08-30</td>\n",
       "      <td>NaN</td>\n",
       "    </tr>\n",
       "    <tr>\n",
       "      <th>2</th>\n",
       "      <td>Apple</td>\n",
       "      <td>NASDAQ</td>\n",
       "      <td>AAPL</td>\n",
       "      <td>Consumer electronics</td>\n",
       "      <td>2015-03-19</td>\n",
       "      <td>NaN</td>\n",
       "    </tr>\n",
       "    <tr>\n",
       "      <th>3</th>\n",
       "      <td>Boeing</td>\n",
       "      <td>NYSE</td>\n",
       "      <td>BA</td>\n",
       "      <td>Aerospace and defense</td>\n",
       "      <td>1987-03-12</td>\n",
       "      <td>NaN</td>\n",
       "    </tr>\n",
       "    <tr>\n",
       "      <th>4</th>\n",
       "      <td>Caterpillar</td>\n",
       "      <td>NYSE</td>\n",
       "      <td>CAT</td>\n",
       "      <td>Construction and mining equipment</td>\n",
       "      <td>1991-05-06</td>\n",
       "      <td>NaN</td>\n",
       "    </tr>\n",
       "    <tr>\n",
       "      <th>5</th>\n",
       "      <td>Chevron</td>\n",
       "      <td>NYSE</td>\n",
       "      <td>CVX</td>\n",
       "      <td>Oil &amp; gas</td>\n",
       "      <td>2008-02-19</td>\n",
       "      <td>also 1930-07-18 to 1999-11-01</td>\n",
       "    </tr>\n",
       "    <tr>\n",
       "      <th>6</th>\n",
       "      <td>Cisco Systems</td>\n",
       "      <td>NASDAQ</td>\n",
       "      <td>CSCO</td>\n",
       "      <td>Computer networking</td>\n",
       "      <td>2009-06-08</td>\n",
       "      <td>Dropped from Dow Jones as of January 5, 1912</td>\n",
       "    </tr>\n",
       "    <tr>\n",
       "      <th>7</th>\n",
       "      <td>Coca-Cola</td>\n",
       "      <td>NYSE</td>\n",
       "      <td>KO</td>\n",
       "      <td>Beverages</td>\n",
       "      <td>1987-03-12</td>\n",
       "      <td>also 1932-05-26 to 1935-11-20</td>\n",
       "    </tr>\n",
       "    <tr>\n",
       "      <th>8</th>\n",
       "      <td>DuPont</td>\n",
       "      <td>NYSE</td>\n",
       "      <td>DD</td>\n",
       "      <td>Chemical industry</td>\n",
       "      <td>1935-11-20</td>\n",
       "      <td>also 1924-01-22 to 1925-08-31</td>\n",
       "    </tr>\n",
       "    <tr>\n",
       "      <th>9</th>\n",
       "      <td>ExxonMobil</td>\n",
       "      <td>NYSE</td>\n",
       "      <td>XOM</td>\n",
       "      <td>Oil &amp; gas</td>\n",
       "      <td>1928-10-01</td>\n",
       "      <td>as Standard Oil of New Jersey</td>\n",
       "    </tr>\n",
       "    <tr>\n",
       "      <th>10</th>\n",
       "      <td>General Electric</td>\n",
       "      <td>NYSE</td>\n",
       "      <td>GE</td>\n",
       "      <td>Conglomerate</td>\n",
       "      <td>1907-11-07</td>\n",
       "      <td>also 1896-05-26 to 1898-10 and 1899-04-21 to 1...</td>\n",
       "    </tr>\n",
       "    <tr>\n",
       "      <th>11</th>\n",
       "      <td>Goldman Sachs</td>\n",
       "      <td>NYSE</td>\n",
       "      <td>GS</td>\n",
       "      <td>Banking, Financial services</td>\n",
       "      <td>2013-09-20</td>\n",
       "      <td>NaN</td>\n",
       "    </tr>\n",
       "    <tr>\n",
       "      <th>12</th>\n",
       "      <td>The Home Depot</td>\n",
       "      <td>NYSE</td>\n",
       "      <td>HD</td>\n",
       "      <td>Home improvement retailer</td>\n",
       "      <td>1999-11-01</td>\n",
       "      <td>NaN</td>\n",
       "    </tr>\n",
       "    <tr>\n",
       "      <th>13</th>\n",
       "      <td>IBM</td>\n",
       "      <td>NYSE</td>\n",
       "      <td>IBM</td>\n",
       "      <td>Computers and technology</td>\n",
       "      <td>1979-06-29</td>\n",
       "      <td>also 1932-05-26 to 1939-03-04</td>\n",
       "    </tr>\n",
       "    <tr>\n",
       "      <th>14</th>\n",
       "      <td>Intel</td>\n",
       "      <td>NYSE</td>\n",
       "      <td>INTC</td>\n",
       "      <td>Semiconductors</td>\n",
       "      <td>1999-11-01</td>\n",
       "      <td>NaN</td>\n",
       "    </tr>\n",
       "    <tr>\n",
       "      <th>15</th>\n",
       "      <td>Johnson &amp; Johnson</td>\n",
       "      <td>NYSE</td>\n",
       "      <td>JNJ</td>\n",
       "      <td>Pharmaceuticals</td>\n",
       "      <td>1997-03-17</td>\n",
       "      <td>NaN</td>\n",
       "    </tr>\n",
       "    <tr>\n",
       "      <th>16</th>\n",
       "      <td>JPMorgan Chase</td>\n",
       "      <td>NYSE</td>\n",
       "      <td>JPM</td>\n",
       "      <td>Banking</td>\n",
       "      <td>1991-05-06</td>\n",
       "      <td>NaN</td>\n",
       "    </tr>\n",
       "    <tr>\n",
       "      <th>17</th>\n",
       "      <td>McDonald's</td>\n",
       "      <td>NYSE</td>\n",
       "      <td>MCD</td>\n",
       "      <td>Fast food</td>\n",
       "      <td>1985-10-30</td>\n",
       "      <td>NaN</td>\n",
       "    </tr>\n",
       "    <tr>\n",
       "      <th>18</th>\n",
       "      <td>Merck</td>\n",
       "      <td>NYSE</td>\n",
       "      <td>MRK</td>\n",
       "      <td>Pharmaceuticals</td>\n",
       "      <td>1979-06-29</td>\n",
       "      <td>NaN</td>\n",
       "    </tr>\n",
       "    <tr>\n",
       "      <th>19</th>\n",
       "      <td>Microsoft</td>\n",
       "      <td>NASDAQ</td>\n",
       "      <td>MSFT</td>\n",
       "      <td>Software</td>\n",
       "      <td>1999-11-01</td>\n",
       "      <td>NaN</td>\n",
       "    </tr>\n",
       "    <tr>\n",
       "      <th>20</th>\n",
       "      <td>Nike</td>\n",
       "      <td>NYSE</td>\n",
       "      <td>NKE</td>\n",
       "      <td>Apparel</td>\n",
       "      <td>2013-09-20</td>\n",
       "      <td>NaN</td>\n",
       "    </tr>\n",
       "    <tr>\n",
       "      <th>21</th>\n",
       "      <td>Pfizer</td>\n",
       "      <td>NYSE</td>\n",
       "      <td>PFE</td>\n",
       "      <td>Pharmaceuticals</td>\n",
       "      <td>2004-04-08</td>\n",
       "      <td>NaN</td>\n",
       "    </tr>\n",
       "    <tr>\n",
       "      <th>22</th>\n",
       "      <td>Procter &amp; Gamble</td>\n",
       "      <td>NYSE</td>\n",
       "      <td>PG</td>\n",
       "      <td>Consumer goods</td>\n",
       "      <td>1932-05-26</td>\n",
       "      <td>NaN</td>\n",
       "    </tr>\n",
       "    <tr>\n",
       "      <th>23</th>\n",
       "      <td>Travelers</td>\n",
       "      <td>NYSE</td>\n",
       "      <td>TRV</td>\n",
       "      <td>Insurance</td>\n",
       "      <td>2009-06-08</td>\n",
       "      <td>NaN</td>\n",
       "    </tr>\n",
       "    <tr>\n",
       "      <th>24</th>\n",
       "      <td>UnitedHealth Group</td>\n",
       "      <td>NYSE</td>\n",
       "      <td>UNH</td>\n",
       "      <td>Managed health care</td>\n",
       "      <td>2012-09-24</td>\n",
       "      <td>NaN</td>\n",
       "    </tr>\n",
       "    <tr>\n",
       "      <th>25</th>\n",
       "      <td>United Technologies</td>\n",
       "      <td>NYSE</td>\n",
       "      <td>UTX</td>\n",
       "      <td>Conglomerate</td>\n",
       "      <td>1939-03-14</td>\n",
       "      <td>as United Aircraft</td>\n",
       "    </tr>\n",
       "    <tr>\n",
       "      <th>26</th>\n",
       "      <td>Verizon</td>\n",
       "      <td>NYSE</td>\n",
       "      <td>VZ</td>\n",
       "      <td>Telecommunication</td>\n",
       "      <td>2004-04-08</td>\n",
       "      <td>NaN</td>\n",
       "    </tr>\n",
       "    <tr>\n",
       "      <th>27</th>\n",
       "      <td>Visa</td>\n",
       "      <td>NYSE</td>\n",
       "      <td>V</td>\n",
       "      <td>Consumer banking</td>\n",
       "      <td>2013-09-20</td>\n",
       "      <td>NaN</td>\n",
       "    </tr>\n",
       "    <tr>\n",
       "      <th>28</th>\n",
       "      <td>Wal-Mart</td>\n",
       "      <td>NYSE</td>\n",
       "      <td>WMT</td>\n",
       "      <td>Retail</td>\n",
       "      <td>1997-03-17</td>\n",
       "      <td>NaN</td>\n",
       "    </tr>\n",
       "    <tr>\n",
       "      <th>29</th>\n",
       "      <td>Walt Disney</td>\n",
       "      <td>NYSE</td>\n",
       "      <td>DIS</td>\n",
       "      <td>Broadcasting and entertainment</td>\n",
       "      <td>1991-05-06</td>\n",
       "      <td>NaN</td>\n",
       "    </tr>\n",
       "  </tbody>\n",
       "</table>\n",
       "</div>"
      ],
      "text/plain": [
       "                Company Exchange Symbol                           Industry  \\\n",
       "0                    3M     NYSE    MMM                       Conglomerate   \n",
       "1      American Express     NYSE    AXP                   Consumer finance   \n",
       "2                 Apple   NASDAQ   AAPL               Consumer electronics   \n",
       "3                Boeing     NYSE     BA              Aerospace and defense   \n",
       "4           Caterpillar     NYSE    CAT  Construction and mining equipment   \n",
       "5               Chevron     NYSE    CVX                          Oil & gas   \n",
       "6         Cisco Systems   NASDAQ   CSCO                Computer networking   \n",
       "7             Coca-Cola     NYSE     KO                          Beverages   \n",
       "8                DuPont     NYSE     DD                  Chemical industry   \n",
       "9            ExxonMobil     NYSE    XOM                          Oil & gas   \n",
       "10     General Electric     NYSE     GE                       Conglomerate   \n",
       "11        Goldman Sachs     NYSE     GS        Banking, Financial services   \n",
       "12       The Home Depot     NYSE     HD          Home improvement retailer   \n",
       "13                  IBM     NYSE    IBM           Computers and technology   \n",
       "14                Intel     NYSE   INTC                     Semiconductors   \n",
       "15    Johnson & Johnson     NYSE    JNJ                    Pharmaceuticals   \n",
       "16       JPMorgan Chase     NYSE    JPM                            Banking   \n",
       "17           McDonald's     NYSE    MCD                          Fast food   \n",
       "18                Merck     NYSE    MRK                    Pharmaceuticals   \n",
       "19            Microsoft   NASDAQ   MSFT                           Software   \n",
       "20                 Nike     NYSE    NKE                            Apparel   \n",
       "21               Pfizer     NYSE    PFE                    Pharmaceuticals   \n",
       "22     Procter & Gamble     NYSE     PG                     Consumer goods   \n",
       "23            Travelers     NYSE    TRV                          Insurance   \n",
       "24   UnitedHealth Group     NYSE    UNH                Managed health care   \n",
       "25  United Technologies     NYSE    UTX                       Conglomerate   \n",
       "26              Verizon     NYSE     VZ                  Telecommunication   \n",
       "27                 Visa     NYSE      V                   Consumer banking   \n",
       "28             Wal-Mart     NYSE    WMT                             Retail   \n",
       "29          Walt Disney     NYSE    DIS     Broadcasting and entertainment   \n",
       "\n",
       "    Date Added                                              Notes  \n",
       "0   1976-08-09              as Minnesota Mining and Manufacturing  \n",
       "1   1982-08-30                                                NaN  \n",
       "2   2015-03-19                                                NaN  \n",
       "3   1987-03-12                                                NaN  \n",
       "4   1991-05-06                                                NaN  \n",
       "5   2008-02-19                      also 1930-07-18 to 1999-11-01  \n",
       "6   2009-06-08       Dropped from Dow Jones as of January 5, 1912  \n",
       "7   1987-03-12                      also 1932-05-26 to 1935-11-20  \n",
       "8   1935-11-20                      also 1924-01-22 to 1925-08-31  \n",
       "9   1928-10-01                      as Standard Oil of New Jersey  \n",
       "10  1907-11-07  also 1896-05-26 to 1898-10 and 1899-04-21 to 1...  \n",
       "11  2013-09-20                                                NaN  \n",
       "12  1999-11-01                                                NaN  \n",
       "13  1979-06-29                      also 1932-05-26 to 1939-03-04  \n",
       "14  1999-11-01                                                NaN  \n",
       "15  1997-03-17                                                NaN  \n",
       "16  1991-05-06                                                NaN  \n",
       "17  1985-10-30                                                NaN  \n",
       "18  1979-06-29                                                NaN  \n",
       "19  1999-11-01                                                NaN  \n",
       "20  2013-09-20                                                NaN  \n",
       "21  2004-04-08                                                NaN  \n",
       "22  1932-05-26                                                NaN  \n",
       "23  2009-06-08                                                NaN  \n",
       "24  2012-09-24                                                NaN  \n",
       "25  1939-03-14                                 as United Aircraft  \n",
       "26  2004-04-08                                                NaN  \n",
       "27  2013-09-20                                                NaN  \n",
       "28  1997-03-17                                                NaN  \n",
       "29  1991-05-06                                                NaN  "
      ]
     },
     "execution_count": 16,
     "metadata": {},
     "output_type": "execute_result"
    }
   ],
   "source": [
    "tables[0]"
   ]
  },
  {
   "cell_type": "markdown",
   "metadata": {},
   "source": [
    "## Использование HTTP API\n",
    "\n",
    "Примеры API:\n",
    " - Яндекс Карты\n",
    " - "
   ]
  },
  {
   "cell_type": "code",
   "execution_count": 170,
   "metadata": {
    "collapsed": true
   },
   "outputs": [],
   "source": [
    "import requests\n",
    "import json"
   ]
  },
  {
   "cell_type": "code",
   "execution_count": 171,
   "metadata": {
    "collapsed": false
   },
   "outputs": [],
   "source": [
    "resp = requests.get(\n",
    "    'https://geocode-maps.yandex.ru/1.x/',\n",
    "    params={'format': 'json', 'geocode': 'Масква Тверская улца дом 7'},\n",
    ")"
   ]
  },
  {
   "cell_type": "code",
   "execution_count": 172,
   "metadata": {
    "collapsed": false
   },
   "outputs": [],
   "source": [
    "found = resp.json()['response']['GeoObjectCollection']['featureMember'][0]['GeoObject']"
   ]
  },
  {
   "cell_type": "code",
   "execution_count": 173,
   "metadata": {
    "collapsed": false
   },
   "outputs": [
    {
     "name": "stdout",
     "output_type": "stream",
     "text": [
      "{\n",
      "  \"metaDataProperty\": {\n",
      "    \"GeocoderMetaData\": {\n",
      "      \"text\": \"Россия, Москва, Тверская улица, 7\", \n",
      "      \"kind\": \"house\", \n",
      "      \"AddressDetails\": {\n",
      "        \"Country\": {\n",
      "          \"CountryName\": \"Россия\", \n",
      "          \"AdministrativeArea\": {\n",
      "            \"AdministrativeAreaName\": \"Москва\", \n",
      "            \"Locality\": {\n",
      "              \"Thoroughfare\": {\n",
      "                \"Premise\": {\n",
      "                  \"PremiseNumber\": \"7\"\n",
      "                }, \n",
      "                \"ThoroughfareName\": \"Тверская улица\"\n",
      "              }, \n",
      "              \"LocalityName\": \"Москва\"\n",
      "            }\n",
      "          }, \n",
      "          \"AddressLine\": \"Москва, Тверская улица, 7\", \n",
      "          \"CountryNameCode\": \"RU\"\n",
      "        }\n",
      "      }, \n",
      "      \"precision\": \"exact\"\n",
      "    }\n",
      "  }, \n",
      "  \"boundedBy\": {\n",
      "    \"Envelope\": {\n",
      "      \"upperCorner\": \"37.619234 55.762601\", \n",
      "      \"lowerCorner\": \"37.602777 55.753321\"\n",
      "    }\n",
      "  }, \n",
      "  \"Point\": {\n",
      "    \"pos\": \"37.611006 55.757962\"\n",
      "  }, \n",
      "  \"description\": \"Москва, Россия\", \n",
      "  \"name\": \"Тверская улица, 7\"\n",
      "}\n"
     ]
    }
   ],
   "source": [
    "print json.dumps(found, indent=2, encoding='utf8', ensure_ascii=False)"
   ]
  },
  {
   "cell_type": "markdown",
   "metadata": {},
   "source": [
    "## Извлечение данных со страниц\n",
    "\n",
    "- [Scrapy](http://scrapy.org/)\n",
    "- [Пример работы с селекторами](http://doc.scrapy.org/en/1.0/topics/selectors.html)\n",
    "- простая документация по css селекторам"
   ]
  },
  {
   "cell_type": "code",
   "execution_count": 174,
   "metadata": {
    "collapsed": false
   },
   "outputs": [],
   "source": [
    "resp = requests.get('https://www.hse.ru/staff/arjanstev')"
   ]
  },
  {
   "cell_type": "code",
   "execution_count": null,
   "metadata": {
    "collapsed": true
   },
   "outputs": [],
   "source": [
    "import scrapy"
   ]
  },
  {
   "cell_type": "code",
   "execution_count": 40,
   "metadata": {
    "collapsed": false
   },
   "outputs": [],
   "source": [
    "page = scrapy.Selector(text=resp.content)"
   ]
  },
  {
   "cell_type": "code",
   "execution_count": 45,
   "metadata": {
    "collapsed": false
   },
   "outputs": [
    {
     "data": {
      "text/plain": [
       "u'<dl class=\"main-list large main-list-language-knowledge-level\"><dt class=\"b\">\\u0412\\u043b\\u0430\\u0434\\u0435\\u043d\\u0438\\u0435 \\u044f\\u0437\\u044b\\u043a\\u0430\\u043c\\u0438</dt><dd>\\u0430\\u043d\\u0433\\u043b\\u0438\\u0439\\u0441\\u043a\\u0438\\u0439</dd><dd>\\u0443\\u043a\\u0440\\u0430\\u0438\\u043d\\u0441\\u043a\\u0438\\u0439</dd><dd>\\u043d\\u0435\\u043c\\u0435\\u0446\\u043a\\u0438\\u0439</dd><dd>\\u0444\\u0440\\u0430\\u043d\\u0446\\u0443\\u0437\\u0441\\u043a\\u0438\\u0439</dd></dl>'"
      ]
     },
     "execution_count": 45,
     "metadata": {},
     "output_type": "execute_result"
    }
   ],
   "source": [
    "page.css('dl.main-list-language-knowledge-level').extract_first()"
   ]
  },
  {
   "cell_type": "code",
   "execution_count": 48,
   "metadata": {
    "collapsed": false
   },
   "outputs": [
    {
     "name": "stdout",
     "output_type": "stream",
     "text": [
      "английский\n",
      "украинский\n",
      "немецкий\n",
      "французский\n"
     ]
    }
   ],
   "source": [
    "langs = page.css('dl.main-list-language-knowledge-level dd ::text').extract()\n",
    "for lang in langs:\n",
    "    print lang"
   ]
  },
  {
   "cell_type": "markdown",
   "metadata": {},
   "source": [
    "## Таблица из набора JSON-записей"
   ]
  },
  {
   "cell_type": "code",
   "execution_count": 168,
   "metadata": {
    "collapsed": false
   },
   "outputs": [
    {
     "data": {
      "text/html": [
       "<div>\n",
       "<table border=\"1\" class=\"dataframe\">\n",
       "  <thead>\n",
       "    <tr style=\"text-align: right;\">\n",
       "      <th></th>\n",
       "      <th>x</th>\n",
       "      <th>y</th>\n",
       "    </tr>\n",
       "  </thead>\n",
       "  <tbody>\n",
       "    <tr>\n",
       "      <th>0</th>\n",
       "      <td>1</td>\n",
       "      <td>a</td>\n",
       "    </tr>\n",
       "    <tr>\n",
       "      <th>1</th>\n",
       "      <td>2</td>\n",
       "      <td>b</td>\n",
       "    </tr>\n",
       "    <tr>\n",
       "      <th>2</th>\n",
       "      <td>3</td>\n",
       "      <td>a</td>\n",
       "    </tr>\n",
       "    <tr>\n",
       "      <th>3</th>\n",
       "      <td>4</td>\n",
       "      <td>b</td>\n",
       "    </tr>\n",
       "  </tbody>\n",
       "</table>\n",
       "</div>"
      ],
      "text/plain": [
       "   x  y\n",
       "0  1  a\n",
       "1  2  b\n",
       "2  3  a\n",
       "3  4  b"
      ]
     },
     "execution_count": 168,
     "metadata": {},
     "output_type": "execute_result"
    }
   ],
   "source": [
    "pandas.DataFrame({\n",
    "        'x': [1, 2, 3, 4],\n",
    "        'y': ['a', 'b', 'a', 'b']\n",
    "    })"
   ]
  },
  {
   "cell_type": "code",
   "execution_count": 169,
   "metadata": {
    "collapsed": false
   },
   "outputs": [
    {
     "data": {
      "text/html": [
       "<div>\n",
       "<table border=\"1\" class=\"dataframe\">\n",
       "  <thead>\n",
       "    <tr style=\"text-align: right;\">\n",
       "      <th></th>\n",
       "      <th>x</th>\n",
       "      <th>y</th>\n",
       "    </tr>\n",
       "  </thead>\n",
       "  <tbody>\n",
       "    <tr>\n",
       "      <th>0</th>\n",
       "      <td>1</td>\n",
       "      <td>a</td>\n",
       "    </tr>\n",
       "    <tr>\n",
       "      <th>1</th>\n",
       "      <td>2</td>\n",
       "      <td>b</td>\n",
       "    </tr>\n",
       "  </tbody>\n",
       "</table>\n",
       "</div>"
      ],
      "text/plain": [
       "   x  y\n",
       "0  1  a\n",
       "1  2  b"
      ]
     },
     "execution_count": 169,
     "metadata": {},
     "output_type": "execute_result"
    }
   ],
   "source": [
    "pandas.DataFrame.from_records([\n",
    "        {'x': 1, 'y': 'a'},\n",
    "        {'x': 2, 'y': 'b'}\n",
    "    ])"
   ]
  },
  {
   "cell_type": "markdown",
   "metadata": {},
   "source": [
    "# Машинное обучение"
   ]
  },
  {
   "cell_type": "markdown",
   "metadata": {},
   "source": [
    "Рассмотрим выборку [Census Income Data Set](https://archive.ics.uci.edu/ml/machine-learning-databases/adult/)\n",
    "\n",
    "Решаем следующую задачу - по социальным признакам человека необходимо определить зарабатывает ли он более 50к или менее."
   ]
  },
  {
   "cell_type": "markdown",
   "metadata": {},
   "source": [
    "## Предобработка данных, извлечение признаков"
   ]
  },
  {
   "cell_type": "markdown",
   "metadata": {},
   "source": [
    "### Качаем выборку"
   ]
  },
  {
   "cell_type": "code",
   "execution_count": 9,
   "metadata": {
    "collapsed": false
   },
   "outputs": [
    {
     "name": "stdout",
     "output_type": "stream",
     "text": [
      "--2016-04-07 21:32:24--  https://archive.ics.uci.edu/ml/machine-learning-databases/adult/adult.data\n",
      "Resolving archive.ics.uci.edu (archive.ics.uci.edu)... 128.195.10.249\n",
      "Connecting to archive.ics.uci.edu (archive.ics.uci.edu)|128.195.10.249|:443... connected.\n",
      "HTTP request sent, awaiting response... 200 OK\n",
      "Length: 3974305 (3.8M) [text/plain]\n",
      "Saving to: `adult.data'\n",
      "\n",
      "100%[======================================>] 3,974,305   1.19M/s   in 3.2s    \n",
      "\n",
      "2016-04-07 21:32:30 (1.19 MB/s) - `adult.data' saved [3974305/3974305]\n",
      "\n"
     ]
    }
   ],
   "source": [
    "!wget https://archive.ics.uci.edu/ml/machine-learning-databases/adult/adult.data"
   ]
  },
  {
   "cell_type": "markdown",
   "metadata": {},
   "source": [
    "Посмотрим как выглядит начало файла с данными"
   ]
  },
  {
   "cell_type": "code",
   "execution_count": 10,
   "metadata": {
    "collapsed": false
   },
   "outputs": [
    {
     "name": "stdout",
     "output_type": "stream",
     "text": [
      "39, State-gov, 77516, Bachelors, 13, Never-married, Adm-clerical, Not-in-family, White, Male, 2174, 0, 40, United-States, <=50K\r\n",
      "50, Self-emp-not-inc, 83311, Bachelors, 13, Married-civ-spouse, Exec-managerial, Husband, White, Male, 0, 0, 13, United-States, <=50K\r\n",
      "38, Private, 215646, HS-grad, 9, Divorced, Handlers-cleaners, Not-in-family, White, Male, 0, 0, 40, United-States, <=50K\r\n",
      "53, Private, 234721, 11th, 7, Married-civ-spouse, Handlers-cleaners, Husband, Black, Male, 0, 0, 40, United-States, <=50K\r\n",
      "28, Private, 338409, Bachelors, 13, Married-civ-spouse, Prof-specialty, Wife, Black, Female, 0, 0, 40, Cuba, <=50K\r\n",
      "37, Private, 284582, Masters, 14, Married-civ-spouse, Exec-managerial, Wife, White, Female, 0, 0, 40, United-States, <=50K\r\n",
      "49, Private, 160187, 9th, 5, Married-spouse-absent, Other-service, Not-in-family, Black, Female, 0, 0, 16, Jamaica, <=50K\r\n",
      "52, Self-emp-not-inc, 209642, HS-grad, 9, Married-civ-spouse, Exec-managerial, Husband, White, Male, 0, 0, 45, United-States, >50K\r\n",
      "31, Private, 45781, Masters, 14, Never-married, Prof-specialty, Not-in-family, White, Female, 14084, 0, 50, United-States, >50K\r\n",
      "42, Private, 159449, Bachelors, 13, Married-civ-spouse, Exec-managerial, Husband, White, Male, 5178, 0, 40, United-States, >50K\r\n"
     ]
    }
   ],
   "source": [
    "!head adult.data"
   ]
  },
  {
   "cell_type": "markdown",
   "metadata": {},
   "source": [
    "Импортируем необходимые библиотеки"
   ]
  },
  {
   "cell_type": "code",
   "execution_count": 54,
   "metadata": {
    "collapsed": true
   },
   "outputs": [],
   "source": [
    "import pandas\n",
    "import numpy"
   ]
  },
  {
   "cell_type": "markdown",
   "metadata": {},
   "source": [
    "Загружаем файл и делаем из него pandas.DataFrame"
   ]
  },
  {
   "cell_type": "code",
   "execution_count": 55,
   "metadata": {
    "collapsed": false
   },
   "outputs": [
    {
     "name": "stdout",
     "output_type": "stream",
     "text": [
      "(32561, 15)\n"
     ]
    },
    {
     "data": {
      "text/html": [
       "<div>\n",
       "<table border=\"1\" class=\"dataframe\">\n",
       "  <thead>\n",
       "    <tr style=\"text-align: right;\">\n",
       "      <th></th>\n",
       "      <th>0</th>\n",
       "      <th>1</th>\n",
       "      <th>2</th>\n",
       "      <th>3</th>\n",
       "      <th>4</th>\n",
       "      <th>5</th>\n",
       "      <th>6</th>\n",
       "      <th>7</th>\n",
       "      <th>8</th>\n",
       "      <th>9</th>\n",
       "      <th>10</th>\n",
       "      <th>11</th>\n",
       "      <th>12</th>\n",
       "      <th>13</th>\n",
       "      <th>14</th>\n",
       "    </tr>\n",
       "  </thead>\n",
       "  <tbody>\n",
       "    <tr>\n",
       "      <th>0</th>\n",
       "      <td>39</td>\n",
       "      <td>State-gov</td>\n",
       "      <td>77516</td>\n",
       "      <td>Bachelors</td>\n",
       "      <td>13</td>\n",
       "      <td>Never-married</td>\n",
       "      <td>Adm-clerical</td>\n",
       "      <td>Not-in-family</td>\n",
       "      <td>White</td>\n",
       "      <td>Male</td>\n",
       "      <td>2174</td>\n",
       "      <td>0</td>\n",
       "      <td>40</td>\n",
       "      <td>United-States</td>\n",
       "      <td>&lt;=50K</td>\n",
       "    </tr>\n",
       "    <tr>\n",
       "      <th>1</th>\n",
       "      <td>50</td>\n",
       "      <td>Self-emp-not-inc</td>\n",
       "      <td>83311</td>\n",
       "      <td>Bachelors</td>\n",
       "      <td>13</td>\n",
       "      <td>Married-civ-spouse</td>\n",
       "      <td>Exec-managerial</td>\n",
       "      <td>Husband</td>\n",
       "      <td>White</td>\n",
       "      <td>Male</td>\n",
       "      <td>0</td>\n",
       "      <td>0</td>\n",
       "      <td>13</td>\n",
       "      <td>United-States</td>\n",
       "      <td>&lt;=50K</td>\n",
       "    </tr>\n",
       "    <tr>\n",
       "      <th>2</th>\n",
       "      <td>38</td>\n",
       "      <td>Private</td>\n",
       "      <td>215646</td>\n",
       "      <td>HS-grad</td>\n",
       "      <td>9</td>\n",
       "      <td>Divorced</td>\n",
       "      <td>Handlers-cleaners</td>\n",
       "      <td>Not-in-family</td>\n",
       "      <td>White</td>\n",
       "      <td>Male</td>\n",
       "      <td>0</td>\n",
       "      <td>0</td>\n",
       "      <td>40</td>\n",
       "      <td>United-States</td>\n",
       "      <td>&lt;=50K</td>\n",
       "    </tr>\n",
       "    <tr>\n",
       "      <th>3</th>\n",
       "      <td>53</td>\n",
       "      <td>Private</td>\n",
       "      <td>234721</td>\n",
       "      <td>11th</td>\n",
       "      <td>7</td>\n",
       "      <td>Married-civ-spouse</td>\n",
       "      <td>Handlers-cleaners</td>\n",
       "      <td>Husband</td>\n",
       "      <td>Black</td>\n",
       "      <td>Male</td>\n",
       "      <td>0</td>\n",
       "      <td>0</td>\n",
       "      <td>40</td>\n",
       "      <td>United-States</td>\n",
       "      <td>&lt;=50K</td>\n",
       "    </tr>\n",
       "    <tr>\n",
       "      <th>4</th>\n",
       "      <td>28</td>\n",
       "      <td>Private</td>\n",
       "      <td>338409</td>\n",
       "      <td>Bachelors</td>\n",
       "      <td>13</td>\n",
       "      <td>Married-civ-spouse</td>\n",
       "      <td>Prof-specialty</td>\n",
       "      <td>Wife</td>\n",
       "      <td>Black</td>\n",
       "      <td>Female</td>\n",
       "      <td>0</td>\n",
       "      <td>0</td>\n",
       "      <td>40</td>\n",
       "      <td>Cuba</td>\n",
       "      <td>&lt;=50K</td>\n",
       "    </tr>\n",
       "  </tbody>\n",
       "</table>\n",
       "</div>"
      ],
      "text/plain": [
       "   0                  1       2           3   4                    5   \\\n",
       "0  39          State-gov   77516   Bachelors  13        Never-married   \n",
       "1  50   Self-emp-not-inc   83311   Bachelors  13   Married-civ-spouse   \n",
       "2  38            Private  215646     HS-grad   9             Divorced   \n",
       "3  53            Private  234721        11th   7   Married-civ-spouse   \n",
       "4  28            Private  338409   Bachelors  13   Married-civ-spouse   \n",
       "\n",
       "                   6               7       8        9     10  11  12  \\\n",
       "0        Adm-clerical   Not-in-family   White     Male  2174   0  40   \n",
       "1     Exec-managerial         Husband   White     Male     0   0  13   \n",
       "2   Handlers-cleaners   Not-in-family   White     Male     0   0  40   \n",
       "3   Handlers-cleaners         Husband   Black     Male     0   0  40   \n",
       "4      Prof-specialty            Wife   Black   Female     0   0  40   \n",
       "\n",
       "               13      14  \n",
       "0   United-States   <=50K  \n",
       "1   United-States   <=50K  \n",
       "2   United-States   <=50K  \n",
       "3   United-States   <=50K  \n",
       "4            Cuba   <=50K  "
      ]
     },
     "execution_count": 55,
     "metadata": {},
     "output_type": "execute_result"
    }
   ],
   "source": [
    "data = pandas.read_csv('adult.data', header=None)\n",
    "print data.shape\n",
    "data.head()"
   ]
  },
  {
   "cell_type": "markdown",
   "metadata": {},
   "source": [
    "Выберем непрерывные (числовые) признаки и дискретные (категориальные) признаки."
   ]
  },
  {
   "cell_type": "code",
   "execution_count": 17,
   "metadata": {
    "collapsed": true
   },
   "outputs": [],
   "source": [
    "continious_features = [0,2,4,10,11,12]\n",
    "discreete_features = [1,3,5,6,7,8,9,13]\n",
    "target = [14]"
   ]
  },
  {
   "cell_type": "markdown",
   "metadata": {},
   "source": [
    "Создадим матрицу, где строчкой будет объект, а столбцом признак. Сначала составим матрицу из непрерывных признаков."
   ]
  },
  {
   "cell_type": "code",
   "execution_count": 72,
   "metadata": {
    "collapsed": false
   },
   "outputs": [
    {
     "name": "stdout",
     "output_type": "stream",
     "text": [
      "(32561, 6)\n"
     ]
    },
    {
     "data": {
      "text/plain": [
       "array([[    39,  77516,     13,   2174,      0,     40],\n",
       "       [    50,  83311,     13,      0,      0,     13],\n",
       "       [    38, 215646,      9,      0,      0,     40],\n",
       "       ..., \n",
       "       [    58, 151910,      9,      0,      0,     40],\n",
       "       [    22, 201490,      9,      0,      0,     20],\n",
       "       [    52, 287927,      9,  15024,      0,     40]])"
      ]
     },
     "execution_count": 72,
     "metadata": {},
     "output_type": "execute_result"
    }
   ],
   "source": [
    "X = data.iloc[:,continious_features].values\n",
    "print X.shape\n",
    "X"
   ]
  },
  {
   "cell_type": "markdown",
   "metadata": {},
   "source": [
    "### Обработка категориальных признаков"
   ]
  },
  {
   "cell_type": "code",
   "execution_count": 73,
   "metadata": {
    "collapsed": true
   },
   "outputs": [],
   "source": [
    "from sklearn.preprocessing import LabelBinarizer"
   ]
  },
  {
   "cell_type": "markdown",
   "metadata": {},
   "source": [
    "Для каждого категориального признака последовательно бинаризуем его и добавим получившиеся признаки к уже существующим"
   ]
  },
  {
   "cell_type": "code",
   "execution_count": 74,
   "metadata": {
    "collapsed": false
   },
   "outputs": [
    {
     "name": "stdout",
     "output_type": "stream",
     "text": [
      "(32561, 107)\n"
     ]
    },
    {
     "data": {
      "text/plain": [
       "array([[    39,  77516,     13, ...,      1,      0,      0],\n",
       "       [    50,  83311,     13, ...,      1,      0,      0],\n",
       "       [    38, 215646,      9, ...,      1,      0,      0],\n",
       "       ..., \n",
       "       [    58, 151910,      9, ...,      1,      0,      0],\n",
       "       [    22, 201490,      9, ...,      1,      0,      0],\n",
       "       [    52, 287927,      9, ...,      1,      0,      0]])"
      ]
     },
     "execution_count": 74,
     "metadata": {},
     "output_type": "execute_result"
    }
   ],
   "source": [
    "lb = LabelBinarizer()\n",
    "for f in discreete_features:\n",
    "    X = numpy.hstack([X,lb.fit_transform(data.iloc[:,f])])\n",
    "\n",
    "print X.shape\n",
    "X"
   ]
  },
  {
   "cell_type": "markdown",
   "metadata": {},
   "source": [
    "Также бинаризуем таргет"
   ]
  },
  {
   "cell_type": "code",
   "execution_count": 79,
   "metadata": {
    "collapsed": false
   },
   "outputs": [
    {
     "name": "stdout",
     "output_type": "stream",
     "text": [
      "(32561, 1)\n"
     ]
    },
    {
     "data": {
      "text/plain": [
       "array([[0],\n",
       "       [0],\n",
       "       [0],\n",
       "       ..., \n",
       "       [0],\n",
       "       [0],\n",
       "       [1]])"
      ]
     },
     "execution_count": 79,
     "metadata": {},
     "output_type": "execute_result"
    }
   ],
   "source": [
    "Y = lb.fit_transform(data.iloc[:,target])\n",
    "print Y.shape\n",
    "Y"
   ]
  },
  {
   "cell_type": "markdown",
   "metadata": {},
   "source": [
    "Наконец разбиваем выборку на обучающую часть и тестовую"
   ]
  },
  {
   "cell_type": "code",
   "execution_count": 81,
   "metadata": {
    "collapsed": false
   },
   "outputs": [],
   "source": [
    "ids = numpy.arange(X.shape[0])\n",
    "numpy.random.shuffle(ids)\n",
    "\n",
    "train_len = int(len(ids) * 0.8)\n",
    "\n",
    "X_train = X[ids[:train_len],:]\n",
    "Y_train = Y[ids[:train_len],:]\n",
    "X_test = X[ids[train_len:],:]\n",
    "Y_test = Y[ids[train_len:],:]"
   ]
  },
  {
   "cell_type": "markdown",
   "metadata": {},
   "source": [
    "## Модели машинного обучения\n",
    "\n",
    "К получившейся выборке применим различные модели Машинного Обучения"
   ]
  },
  {
   "cell_type": "markdown",
   "metadata": {},
   "source": [
    "### Линейные модели"
   ]
  },
  {
   "cell_type": "code",
   "execution_count": 82,
   "metadata": {
    "collapsed": true
   },
   "outputs": [],
   "source": [
    "from sklearn.linear_model import LogisticRegression"
   ]
  },
  {
   "cell_type": "code",
   "execution_count": 120,
   "metadata": {
    "collapsed": false
   },
   "outputs": [
    {
     "data": {
      "text/plain": [
       "LogisticRegression(C=1.0, class_weight=None, dual=False, fit_intercept=True,\n",
       "          intercept_scaling=1, max_iter=100, multi_class='ovr', n_jobs=1,\n",
       "          penalty='l2', random_state=None, solver='liblinear', tol=0.0001,\n",
       "          verbose=0, warm_start=False)"
      ]
     },
     "execution_count": 120,
     "metadata": {},
     "output_type": "execute_result"
    }
   ],
   "source": [
    "lr = LogisticRegression()\n",
    "lr.fit(X_train, Y_train.flatten())"
   ]
  },
  {
   "cell_type": "code",
   "execution_count": 122,
   "metadata": {
    "collapsed": false
   },
   "outputs": [
    {
     "data": {
      "text/plain": [
       "array([[ 0.69004347,  0.30995653],\n",
       "       [ 0.76645165,  0.23354835],\n",
       "       [ 0.80368242,  0.19631758],\n",
       "       ..., \n",
       "       [ 0.73231403,  0.26768597],\n",
       "       [ 0.81080381,  0.18919619],\n",
       "       [ 0.88429524,  0.11570476]])"
      ]
     },
     "execution_count": 122,
     "metadata": {},
     "output_type": "execute_result"
    }
   ],
   "source": [
    "lr_preds = lr.predict_proba(X_test)\n",
    "lr_preds"
   ]
  },
  {
   "cell_type": "markdown",
   "metadata": {},
   "source": [
    "## Деревья, композиции, бустинг"
   ]
  },
  {
   "cell_type": "markdown",
   "metadata": {},
   "source": [
    "### Random Forest"
   ]
  },
  {
   "cell_type": "code",
   "execution_count": 92,
   "metadata": {
    "collapsed": true
   },
   "outputs": [],
   "source": [
    "from sklearn.ensemble import RandomForestClassifier"
   ]
  },
  {
   "cell_type": "code",
   "execution_count": 94,
   "metadata": {
    "collapsed": false
   },
   "outputs": [
    {
     "data": {
      "text/plain": [
       "RandomForestClassifier(bootstrap=True, class_weight=None, criterion='gini',\n",
       "            max_depth=5, max_features='auto', max_leaf_nodes=None,\n",
       "            min_samples_leaf=1, min_samples_split=2,\n",
       "            min_weight_fraction_leaf=0.0, n_estimators=200, n_jobs=1,\n",
       "            oob_score=False, random_state=None, verbose=0,\n",
       "            warm_start=False)"
      ]
     },
     "execution_count": 94,
     "metadata": {},
     "output_type": "execute_result"
    }
   ],
   "source": [
    "rf = RandomForestClassifier(n_estimators=200, max_depth=5)\n",
    "rf.fit(X_train, Y_train.flatten())"
   ]
  },
  {
   "cell_type": "code",
   "execution_count": 115,
   "metadata": {
    "collapsed": false
   },
   "outputs": [
    {
     "data": {
      "text/plain": [
       "array([[ 0.9640507 ,  0.0359493 ],\n",
       "       [ 0.92118479,  0.07881521],\n",
       "       [ 0.69486808,  0.30513192],\n",
       "       ..., \n",
       "       [ 0.88265126,  0.11734874],\n",
       "       [ 0.63835804,  0.36164196],\n",
       "       [ 0.67966014,  0.32033986]])"
      ]
     },
     "execution_count": 115,
     "metadata": {},
     "output_type": "execute_result"
    }
   ],
   "source": [
    "rf_preds = rf.predict_proba(X_test)\n",
    "rf_preds"
   ]
  },
  {
   "cell_type": "markdown",
   "metadata": {},
   "source": [
    "### Gradient Boosting"
   ]
  },
  {
   "cell_type": "code",
   "execution_count": 116,
   "metadata": {
    "collapsed": true
   },
   "outputs": [],
   "source": [
    "from sklearn.ensemble import GradientBoostingClassifier"
   ]
  },
  {
   "cell_type": "code",
   "execution_count": 117,
   "metadata": {
    "collapsed": false
   },
   "outputs": [
    {
     "data": {
      "text/plain": [
       "GradientBoostingClassifier(init=None, learning_rate=0.1, loss='deviance',\n",
       "              max_depth=5, max_features=None, max_leaf_nodes=None,\n",
       "              min_samples_leaf=1, min_samples_split=2,\n",
       "              min_weight_fraction_leaf=0.0, n_estimators=200,\n",
       "              presort='auto', random_state=None, subsample=1.0, verbose=0,\n",
       "              warm_start=False)"
      ]
     },
     "execution_count": 117,
     "metadata": {},
     "output_type": "execute_result"
    }
   ],
   "source": [
    "bst = GradientBoostingClassifier(n_estimators=200, max_depth=5)\n",
    "bst.fit(X_train, Y_train.flatten())"
   ]
  },
  {
   "cell_type": "code",
   "execution_count": 118,
   "metadata": {
    "collapsed": false
   },
   "outputs": [
    {
     "data": {
      "text/plain": [
       "array([[ 0.99851183,  0.00148817],\n",
       "       [ 0.98867121,  0.01132879],\n",
       "       [ 0.89184037,  0.10815963],\n",
       "       ..., \n",
       "       [ 0.97928335,  0.02071665],\n",
       "       [ 0.65404006,  0.34595994],\n",
       "       [ 0.57067677,  0.42932323]])"
      ]
     },
     "execution_count": 118,
     "metadata": {},
     "output_type": "execute_result"
    }
   ],
   "source": [
    "bst_preds = bst.predict_proba(X_test)\n",
    "bst_preds"
   ]
  },
  {
   "cell_type": "markdown",
   "metadata": {},
   "source": [
    "## Оценка качества моделей"
   ]
  },
  {
   "cell_type": "markdown",
   "metadata": {},
   "source": [
    "### Метрики"
   ]
  },
  {
   "cell_type": "code",
   "execution_count": 130,
   "metadata": {
    "collapsed": false
   },
   "outputs": [
    {
     "name": "stdout",
     "output_type": "stream",
     "text": [
      "Populating the interactive namespace from numpy and matplotlib\n"
     ]
    }
   ],
   "source": [
    "%pylab inline"
   ]
  },
  {
   "cell_type": "code",
   "execution_count": 163,
   "metadata": {
    "collapsed": true
   },
   "outputs": [],
   "source": [
    "from sklearn.metrics import roc_auc_score, roc_curve, accuracy_score\n",
    "import matplotlib.pyplot as plt"
   ]
  },
  {
   "cell_type": "markdown",
   "metadata": {},
   "source": [
    "#### Качество Logistic Regression"
   ]
  },
  {
   "cell_type": "code",
   "execution_count": 165,
   "metadata": {
    "collapsed": false
   },
   "outputs": [
    {
     "name": "stdout",
     "output_type": "stream",
     "text": [
      " AUC 0.582019378279\n",
      "accuracy 0.797174881007\n"
     ]
    }
   ],
   "source": [
    "print 'AUC', roc_auc_score(Y_test, lr_preds[:,1])\n",
    "print 'accuracy', accuracy_score(Y_test, lr.predict(X_test))"
   ]
  },
  {
   "cell_type": "code",
   "execution_count": 155,
   "metadata": {
    "collapsed": false
   },
   "outputs": [
    {
     "data": {
      "image/png": "[encoded data removed]",
      "text/plain": [
       "<matplotlib.figure.Figure at 0x5d59850>"
      ]
     },
     "metadata": {},
     "output_type": "display_data"
    }
   ],
   "source": [
    "fpr, tpr, thresholds = roc_curve(Y_test, lr_preds[:,1])\n",
    "\n",
    "figsize(8,8)\n",
    "plt.plot(np.arange(0.,1.,1e-5),np.arange(0.,1.,1e-5), c='black')\n",
    "plt.plot(fpr,tpr, c='b')\n",
    "plt.title('ROC curve', size=20)\n",
    "plt.xlabel('False Positive Rate', size=20)\n",
    "plt.ylabel('True Positive Rate', size=20)\n",
    "plt.grid()"
   ]
  },
  {
   "cell_type": "markdown",
   "metadata": {},
   "source": [
    "#### Качество Random Forest"
   ]
  },
  {
   "cell_type": "code",
   "execution_count": 166,
   "metadata": {
    "collapsed": false
   },
   "outputs": [
    {
     "name": "stdout",
     "output_type": "stream",
     "text": [
      "AUC 0.900512135498\n",
      "accuracy 0.838937509596\n"
     ]
    }
   ],
   "source": [
    "print 'AUC', roc_auc_score(Y_test, rf_preds[:,1])\n",
    "print 'accuracy', accuracy_score(Y_test, rf.predict(X_test))"
   ]
  },
  {
   "cell_type": "code",
   "execution_count": 156,
   "metadata": {
    "collapsed": false
   },
   "outputs": [
    {
     "data": {
      "image/png": "[encoded data removed]",
      "text/plain": [
       "<matplotlib.figure.Figure at 0xe1d4ad0>"
      ]
     },
     "metadata": {},
     "output_type": "display_data"
    }
   ],
   "source": [
    "fpr, tpr, thresholds = roc_curve(Y_test, rf_preds[:,1])\n",
    "\n",
    "figsize(8,8)\n",
    "plt.plot(np.arange(0.,1.,1e-5),np.arange(0.,1.,1e-5), c='black')\n",
    "plt.plot(fpr,tpr, c='b')\n",
    "plt.title('ROC curve', size=20)\n",
    "plt.xlabel('False Positive Rate', size=20)\n",
    "plt.ylabel('True Positive Rate', size=20)\n",
    "plt.grid()"
   ]
  },
  {
   "cell_type": "markdown",
   "metadata": {},
   "source": [
    "#### Качество Gradient Boosting"
   ]
  },
  {
   "cell_type": "code",
   "execution_count": 167,
   "metadata": {
    "collapsed": false
   },
   "outputs": [
    {
     "name": "stdout",
     "output_type": "stream",
     "text": [
      "AUC 0.928810592787\n",
      "accuracy 0.878704130201\n"
     ]
    }
   ],
   "source": [
    "print 'AUC', roc_auc_score(Y_test, bst_preds[:,1])\n",
    "print 'accuracy', accuracy_score(Y_test, bst.predict(X_test))"
   ]
  },
  {
   "cell_type": "code",
   "execution_count": 162,
   "metadata": {
    "collapsed": false
   },
   "outputs": [
    {
     "data": {
      "image/png": "[encoded data removed]",
      "text/plain": [
       "<matplotlib.figure.Figure at 0xfc21590>"
      ]
     },
     "metadata": {},
     "output_type": "display_data"
    }
   ],
   "source": [
    "fpr, tpr, thresholds = roc_curve(Y_test, bst_preds[:,1])\n",
    "\n",
    "figsize(8,8)\n",
    "plt.plot(np.arange(0.,1.,1e-5),np.arange(0.,1.,1e-5), c='black')\n",
    "plt.plot(fpr,tpr, c='b')\n",
    "plt.title('ROC curve', size=20)\n",
    "plt.xlabel('False Positive Rate', size=20)\n",
    "plt.ylabel('True Positive Rate', size=20)\n",
    "plt.grid()"
   ]
  },
  {
   "cell_type": "markdown",
   "metadata": {},
   "source": [
    "#### Кросс-валидация"
   ]
  },
  {
   "cell_type": "code",
   "execution_count": 178,
   "metadata": {
    "collapsed": true
   },
   "outputs": [],
   "source": [
    "from sklearn.cross_validation import ShuffleSplit, KFold\n",
    "from tqdm import tqdm"
   ]
  },
  {
   "cell_type": "code",
   "execution_count": 187,
   "metadata": {
    "collapsed": false
   },
   "outputs": [
    {
     "name": "stderr",
     "output_type": "stream",
     "text": []
    }
   ],
   "source": [
    "cv = KFold(X.shape[0], n_folds=5, shuffle=True, random_state=123)\n",
    "\n",
    "lr_aucs = []\n",
    "lr_accs = []\n",
    "rf_aucs = []\n",
    "rf_accs = []\n",
    "bst_aucs = []\n",
    "bst_accs = []\n",
    "for train_ids, test_ids in tqdm(cv):\n",
    "    X_train, Y_train = X[train_ids, :], Y[train_ids, :]\n",
    "    X_test, Y_test = X[test_ids, :], Y[test_ids, :]\n",
    "    lr.fit(X_train, Y_train.flatten())\n",
    "    lr_aucs.append(roc_auc_score(Y_test, lr.predict_proba(X_test)[:,1]))\n",
    "    lr_accs.append(accuracy_score(Y_test, lr.predict(X_test)))\n",
    "    \n",
    "    rf.fit(X_train, Y_train.flatten())\n",
    "    rf_aucs.append(roc_auc_score(Y_test, rf.predict_proba(X_test)[:,1]))\n",
    "    rf_accs.append(accuracy_score(Y_test, rf.predict(X_test)))\n",
    "    \n",
    "    bst.fit(X_train, Y_train.flatten())\n",
    "    bst_aucs.append(roc_auc_score(Y_test, bst.predict_proba(X_test)[:,1]))\n",
    "    bst_accs.append(accuracy_score(Y_test, bst.predict(X_test)))"
   ]
  },
  {
   "cell_type": "markdown",
   "metadata": {},
   "source": [
    "#### Смотрим как себя ведёт качество на разных фолдах"
   ]
  },
  {
   "cell_type": "code",
   "execution_count": 196,
   "metadata": {
    "collapsed": false
   },
   "outputs": [
    {
     "data": {
      "text/plain": [
       "<matplotlib.legend.Legend at 0xf60ab50>"
      ]
     },
     "execution_count": 196,
     "metadata": {},
     "output_type": "execute_result"
    },
    {
     "data": {
      "image/png": "[encoded data removed]",
      "text/plain": [
       "<matplotlib.figure.Figure at 0xdf33d10>"
      ]
     },
     "metadata": {},
     "output_type": "display_data"
    }
   ],
   "source": [
    "figsize(16,8)\n",
    "\n",
    "plt.subplot(121)\n",
    "plt.ylabel('AUC', size=20)\n",
    "plt.xlabel('fold number', size=20)\n",
    "plt.plot(range(5), lr_aucs, label='Logistic Regression')\n",
    "plt.plot(range(5), rf_aucs, label='Random Forest')\n",
    "plt.plot(range(5), bst_aucs, label='Gradient Boosting')\n",
    "plt.legend()\n",
    "\n",
    "plt.subplot(122)\n",
    "plt.ylabel('accuracy', size=20)\n",
    "plt.xlabel('fold number', size=20)\n",
    "plt.plot(range(5), lr_accs, label='Logistic Regression')\n",
    "plt.plot(range(5), rf_accs, label='Random Forest')\n",
    "plt.plot(range(5), bst_accs, label='Gradient Boosting')\n",
    "plt.legend()"
   ]
  },
  {
   "cell_type": "markdown",
   "metadata": {},
   "source": [
    "## XGBoost"
   ]
  },
  {
   "cell_type": "code",
   "execution_count": 197,
   "metadata": {
    "collapsed": true
   },
   "outputs": [],
   "source": [
    "import xgboost as xgb"
   ]
  },
  {
   "cell_type": "code",
   "execution_count": 198,
   "metadata": {
    "collapsed": true
   },
   "outputs": [],
   "source": [
    "ids = numpy.arange(X.shape[0])\n",
    "numpy.random.shuffle(ids)\n",
    "\n",
    "train_len = int(len(ids) * 0.8)\n",
    "dtrain = xgb.DMatrix(X[ids[:train_len],:], label=Y[ids[:train_len],:])\n",
    "dtest = xgb.DMatrix(X[ids[train_len:],:], label=Y[ids[train_len:],:])"
   ]
  },
  {
   "cell_type": "code",
   "execution_count": 199,
   "metadata": {
    "collapsed": false,
    "scrolled": true
   },
   "outputs": [
    {
     "name": "stderr",
     "output_type": "stream",
     "text": [
      "[0]\teval-auc:0.890259\ttrain-auc:0.898631\n",
      "[1]\teval-auc:0.893525\ttrain-auc:0.900900\n",
      "[2]\teval-auc:0.896112\ttrain-auc:0.904753\n",
      "[3]\teval-auc:0.897859\ttrain-auc:0.906633\n",
      "[4]\teval-auc:0.897742\ttrain-auc:0.907030\n",
      "[5]\teval-auc:0.899590\ttrain-auc:0.909332\n",
      "[6]\teval-auc:0.899502\ttrain-auc:0.909476\n",
      "[7]\teval-auc:0.899676\ttrain-auc:0.909857\n",
      "[8]\teval-auc:0.900945\ttrain-auc:0.911248\n",
      "[9]\teval-auc:0.900862\ttrain-auc:0.911538\n",
      "[10]\teval-auc:0.900800\ttrain-auc:0.911631\n",
      "[11]\teval-auc:0.901068\ttrain-auc:0.911767\n",
      "[12]\teval-auc:0.901941\ttrain-auc:0.912639\n",
      "[13]\teval-auc:0.902102\ttrain-auc:0.913100\n",
      "[14]\teval-auc:0.902505\ttrain-auc:0.913380\n",
      "[15]\teval-auc:0.902919\ttrain-auc:0.913947\n",
      "[16]\teval-auc:0.903056\ttrain-auc:0.914269\n",
      "[17]\teval-auc:0.903242\ttrain-auc:0.914761\n",
      "[18]\teval-auc:0.903439\ttrain-auc:0.914896\n",
      "[19]\teval-auc:0.903790\ttrain-auc:0.915416\n",
      "[20]\teval-auc:0.904049\ttrain-auc:0.915799\n",
      "[21]\teval-auc:0.904275\ttrain-auc:0.916025\n",
      "[22]\teval-auc:0.904695\ttrain-auc:0.916339\n",
      "[23]\teval-auc:0.905051\ttrain-auc:0.916858\n",
      "[24]\teval-auc:0.905591\ttrain-auc:0.917258\n",
      "[25]\teval-auc:0.905918\ttrain-auc:0.917513\n",
      "[26]\teval-auc:0.906166\ttrain-auc:0.917773\n",
      "[27]\teval-auc:0.906395\ttrain-auc:0.917947\n",
      "[28]\teval-auc:0.906445\ttrain-auc:0.918221\n",
      "[29]\teval-auc:0.906626\ttrain-auc:0.918382\n",
      "[30]\teval-auc:0.906605\ttrain-auc:0.918622\n",
      "[31]\teval-auc:0.906695\ttrain-auc:0.918751\n",
      "[32]\teval-auc:0.907145\ttrain-auc:0.919228\n",
      "[33]\teval-auc:0.907435\ttrain-auc:0.919977\n",
      "[34]\teval-auc:0.908157\ttrain-auc:0.920474\n",
      "[35]\teval-auc:0.908181\ttrain-auc:0.920681\n",
      "[36]\teval-auc:0.908420\ttrain-auc:0.920997\n",
      "[37]\teval-auc:0.908945\ttrain-auc:0.921383\n",
      "[38]\teval-auc:0.909096\ttrain-auc:0.921599\n",
      "[39]\teval-auc:0.909171\ttrain-auc:0.921902\n",
      "[40]\teval-auc:0.909505\ttrain-auc:0.922248\n",
      "[41]\teval-auc:0.909758\ttrain-auc:0.922510\n",
      "[42]\teval-auc:0.909904\ttrain-auc:0.922737\n",
      "[43]\teval-auc:0.910272\ttrain-auc:0.923078\n",
      "[44]\teval-auc:0.910770\ttrain-auc:0.923485\n",
      "[45]\teval-auc:0.910939\ttrain-auc:0.923701\n",
      "[46]\teval-auc:0.911292\ttrain-auc:0.924004\n",
      "[47]\teval-auc:0.911686\ttrain-auc:0.924258\n",
      "[48]\teval-auc:0.911958\ttrain-auc:0.924550\n",
      "[49]\teval-auc:0.912122\ttrain-auc:0.924863\n",
      "[50]\teval-auc:0.912521\ttrain-auc:0.925266\n",
      "[51]\teval-auc:0.912774\ttrain-auc:0.925564\n",
      "[52]\teval-auc:0.912850\ttrain-auc:0.925837\n",
      "[53]\teval-auc:0.913125\ttrain-auc:0.926185\n",
      "[54]\teval-auc:0.913459\ttrain-auc:0.926508\n",
      "[55]\teval-auc:0.913606\ttrain-auc:0.926806\n",
      "[56]\teval-auc:0.913713\ttrain-auc:0.927029\n",
      "[57]\teval-auc:0.913861\ttrain-auc:0.927297\n",
      "[58]\teval-auc:0.914087\ttrain-auc:0.927584\n",
      "[59]\teval-auc:0.914357\ttrain-auc:0.927942\n",
      "[60]\teval-auc:0.914419\ttrain-auc:0.928136\n",
      "[61]\teval-auc:0.914497\ttrain-auc:0.928258\n",
      "[62]\teval-auc:0.914704\ttrain-auc:0.928573\n",
      "[63]\teval-auc:0.914903\ttrain-auc:0.928770\n",
      "[64]\teval-auc:0.915044\ttrain-auc:0.929037\n",
      "[65]\teval-auc:0.915212\ttrain-auc:0.929228\n",
      "[66]\teval-auc:0.915385\ttrain-auc:0.929382\n",
      "[67]\teval-auc:0.915515\ttrain-auc:0.929585\n",
      "[68]\teval-auc:0.915767\ttrain-auc:0.929798\n",
      "[69]\teval-auc:0.915945\ttrain-auc:0.930108\n",
      "[70]\teval-auc:0.916197\ttrain-auc:0.930287\n",
      "[71]\teval-auc:0.916293\ttrain-auc:0.930523\n",
      "[72]\teval-auc:0.916484\ttrain-auc:0.930812\n",
      "[73]\teval-auc:0.916657\ttrain-auc:0.930931\n",
      "[74]\teval-auc:0.916787\ttrain-auc:0.931147\n",
      "[75]\teval-auc:0.916943\ttrain-auc:0.931248\n",
      "[76]\teval-auc:0.917078\ttrain-auc:0.931411\n",
      "[77]\teval-auc:0.917255\ttrain-auc:0.931554\n",
      "[78]\teval-auc:0.917317\ttrain-auc:0.931736\n",
      "[79]\teval-auc:0.917411\ttrain-auc:0.931862\n",
      "[80]\teval-auc:0.917624\ttrain-auc:0.931998\n",
      "[81]\teval-auc:0.917837\ttrain-auc:0.932265\n",
      "[82]\teval-auc:0.918001\ttrain-auc:0.932397\n",
      "[83]\teval-auc:0.917949\ttrain-auc:0.932576\n",
      "[84]\teval-auc:0.918101\ttrain-auc:0.932787\n",
      "[85]\teval-auc:0.918255\ttrain-auc:0.932900\n",
      "[86]\teval-auc:0.918319\ttrain-auc:0.933012\n",
      "[87]\teval-auc:0.918393\ttrain-auc:0.933166\n",
      "[88]\teval-auc:0.918634\ttrain-auc:0.933365\n",
      "[89]\teval-auc:0.918720\ttrain-auc:0.933488\n",
      "[90]\teval-auc:0.918747\ttrain-auc:0.933565\n",
      "[91]\teval-auc:0.918871\ttrain-auc:0.933691\n",
      "[92]\teval-auc:0.918995\ttrain-auc:0.933947\n",
      "[93]\teval-auc:0.919168\ttrain-auc:0.934194\n",
      "[94]\teval-auc:0.919264\ttrain-auc:0.934308\n",
      "[95]\teval-auc:0.919301\ttrain-auc:0.934440\n",
      "[96]\teval-auc:0.919390\ttrain-auc:0.934582\n",
      "[97]\teval-auc:0.919537\ttrain-auc:0.934713\n",
      "[98]\teval-auc:0.919625\ttrain-auc:0.934898\n",
      "[99]\teval-auc:0.919738\ttrain-auc:0.935165\n",
      "[100]\teval-auc:0.919798\ttrain-auc:0.935382\n",
      "[101]\teval-auc:0.919880\ttrain-auc:0.935474\n",
      "[102]\teval-auc:0.919999\ttrain-auc:0.935565\n",
      "[103]\teval-auc:0.920132\ttrain-auc:0.935669\n",
      "[104]\teval-auc:0.920208\ttrain-auc:0.935719\n",
      "[105]\teval-auc:0.920334\ttrain-auc:0.935953\n",
      "[106]\teval-auc:0.920377\ttrain-auc:0.936053\n",
      "[107]\teval-auc:0.920462\ttrain-auc:0.936179\n",
      "[108]\teval-auc:0.920568\ttrain-auc:0.936294\n",
      "[109]\teval-auc:0.920662\ttrain-auc:0.936361\n",
      "[110]\teval-auc:0.920687\ttrain-auc:0.936475\n",
      "[111]\teval-auc:0.920769\ttrain-auc:0.936537\n",
      "[112]\teval-auc:0.920942\ttrain-auc:0.936668\n",
      "[113]\teval-auc:0.921038\ttrain-auc:0.936850\n",
      "[114]\teval-auc:0.921099\ttrain-auc:0.936886\n",
      "[115]\teval-auc:0.921141\ttrain-auc:0.936982\n",
      "[116]\teval-auc:0.921254\ttrain-auc:0.937095\n",
      "[117]\teval-auc:0.921304\ttrain-auc:0.937185\n",
      "[118]\teval-auc:0.921356\ttrain-auc:0.937319\n",
      "[119]\teval-auc:0.921391\ttrain-auc:0.937574\n",
      "[120]\teval-auc:0.921537\ttrain-auc:0.937688\n",
      "[121]\teval-auc:0.921620\ttrain-auc:0.937744\n",
      "[122]\teval-auc:0.921692\ttrain-auc:0.937804\n",
      "[123]\teval-auc:0.921712\ttrain-auc:0.937888\n",
      "[124]\teval-auc:0.921824\ttrain-auc:0.938072\n",
      "[125]\teval-auc:0.921880\ttrain-auc:0.938230\n",
      "[126]\teval-auc:0.921930\ttrain-auc:0.938273\n",
      "[127]\teval-auc:0.921989\ttrain-auc:0.938339\n",
      "[128]\teval-auc:0.922034\ttrain-auc:0.938474\n",
      "[129]\teval-auc:0.922136\ttrain-auc:0.938622\n",
      "[130]\teval-auc:0.922206\ttrain-auc:0.938668\n",
      "[131]\teval-auc:0.922258\ttrain-auc:0.938863\n",
      "[132]\teval-auc:0.922300\ttrain-auc:0.939005\n",
      "[133]\teval-auc:0.922351\ttrain-auc:0.939075\n",
      "[134]\teval-auc:0.922399\ttrain-auc:0.939103\n",
      "[135]\teval-auc:0.922405\ttrain-auc:0.939220\n",
      "[136]\teval-auc:0.922442\ttrain-auc:0.939258\n",
      "[137]\teval-auc:0.922512\ttrain-auc:0.939332\n",
      "[138]\teval-auc:0.922540\ttrain-auc:0.939368\n",
      "[139]\teval-auc:0.922575\ttrain-auc:0.939500\n",
      "[140]\teval-auc:0.922628\ttrain-auc:0.939554\n",
      "[141]\teval-auc:0.922692\ttrain-auc:0.939587\n",
      "[142]\teval-auc:0.922799\ttrain-auc:0.939653\n",
      "[143]\teval-auc:0.922830\ttrain-auc:0.939679\n",
      "[144]\teval-auc:0.922840\ttrain-auc:0.939734\n",
      "[145]\teval-auc:0.922877\ttrain-auc:0.939901\n",
      "[146]\teval-auc:0.922936\ttrain-auc:0.939935\n",
      "[147]\teval-auc:0.922976\ttrain-auc:0.939996\n",
      "[148]\teval-auc:0.923063\ttrain-auc:0.940094\n",
      "[149]\teval-auc:0.923128\ttrain-auc:0.940154\n",
      "[150]\teval-auc:0.923127\ttrain-auc:0.940273\n",
      "[151]\teval-auc:0.923153\ttrain-auc:0.940316\n",
      "[152]\teval-auc:0.923203\ttrain-auc:0.940347\n",
      "[153]\teval-auc:0.923247\ttrain-auc:0.940506\n",
      "[154]\teval-auc:0.923330\ttrain-auc:0.940567\n",
      "[155]\teval-auc:0.923348\ttrain-auc:0.940613\n",
      "[156]\teval-auc:0.923403\ttrain-auc:0.940643\n",
      "[157]\teval-auc:0.923450\ttrain-auc:0.940678\n",
      "[158]\teval-auc:0.923516\ttrain-auc:0.940806\n",
      "[159]\teval-auc:0.923573\ttrain-auc:0.941003\n",
      "[160]\teval-auc:0.923622\ttrain-auc:0.941032\n",
      "[161]\teval-auc:0.923646\ttrain-auc:0.941146\n",
      "[162]\teval-auc:0.923697\ttrain-auc:0.941236\n",
      "[163]\teval-auc:0.923737\ttrain-auc:0.941261\n",
      "[164]\teval-auc:0.923790\ttrain-auc:0.941345\n",
      "[165]\teval-auc:0.923809\ttrain-auc:0.941466\n",
      "[166]\teval-auc:0.923828\ttrain-auc:0.941523\n",
      "[167]\teval-auc:0.923871\ttrain-auc:0.941546\n",
      "[168]\teval-auc:0.923878\ttrain-auc:0.941640\n",
      "[169]\teval-auc:0.923885\ttrain-auc:0.941766\n",
      "[170]\teval-auc:0.923905\ttrain-auc:0.941865\n",
      "[171]\teval-auc:0.923938\ttrain-auc:0.941931\n",
      "[172]\teval-auc:0.923980\ttrain-auc:0.941952\n",
      "[173]\teval-auc:0.924044\ttrain-auc:0.942010\n",
      "[174]\teval-auc:0.924090\ttrain-auc:0.942050\n",
      "[175]\teval-auc:0.924114\ttrain-auc:0.942068\n",
      "[176]\teval-auc:0.924133\ttrain-auc:0.942213\n",
      "[177]\teval-auc:0.924165\ttrain-auc:0.942334\n",
      "[178]\teval-auc:0.924182\ttrain-auc:0.942379\n",
      "[179]\teval-auc:0.924233\ttrain-auc:0.942490\n",
      "[180]\teval-auc:0.924257\ttrain-auc:0.942524\n",
      "[181]\teval-auc:0.924288\ttrain-auc:0.942597\n",
      "[182]\teval-auc:0.924321\ttrain-auc:0.942626\n",
      "[183]\teval-auc:0.924359\ttrain-auc:0.942652\n",
      "[184]\teval-auc:0.924411\ttrain-auc:0.942841\n",
      "[185]\teval-auc:0.924442\ttrain-auc:0.942859\n",
      "[186]\teval-auc:0.924476\ttrain-auc:0.942927\n",
      "[187]\teval-auc:0.924471\ttrain-auc:0.942951\n",
      "[188]\teval-auc:0.924508\ttrain-auc:0.942978\n",
      "[189]\teval-auc:0.924529\ttrain-auc:0.943015\n",
      "[190]\teval-auc:0.924541\ttrain-auc:0.943135\n",
      "[191]\teval-auc:0.924565\ttrain-auc:0.943150\n",
      "[192]\teval-auc:0.924615\ttrain-auc:0.943298\n",
      "[193]\teval-auc:0.924684\ttrain-auc:0.943331\n",
      "[194]\teval-auc:0.924719\ttrain-auc:0.943431\n",
      "[195]\teval-auc:0.924758\ttrain-auc:0.943446\n",
      "[196]\teval-auc:0.924811\ttrain-auc:0.943474\n",
      "[197]\teval-auc:0.924843\ttrain-auc:0.943505\n",
      "[198]\teval-auc:0.924884\ttrain-auc:0.943538\n",
      "[199]\teval-auc:0.924903\ttrain-auc:0.943624\n",
      "[200]\teval-auc:0.924957\ttrain-auc:0.943777\n",
      "[201]\teval-auc:0.924978\ttrain-auc:0.943797\n",
      "[202]\teval-auc:0.924988\ttrain-auc:0.943883\n",
      "[203]\teval-auc:0.925036\ttrain-auc:0.943905\n",
      "[204]\teval-auc:0.925069\ttrain-auc:0.943934\n",
      "[205]\teval-auc:0.925116\ttrain-auc:0.943957\n",
      "[206]\teval-auc:0.925139\ttrain-auc:0.944027\n",
      "[207]\teval-auc:0.925177\ttrain-auc:0.944102\n",
      "[208]\teval-auc:0.925207\ttrain-auc:0.944124\n",
      "[209]\teval-auc:0.925232\ttrain-auc:0.944137\n",
      "[210]\teval-auc:0.925277\ttrain-auc:0.944238\n",
      "[211]\teval-auc:0.925312\ttrain-auc:0.944296\n",
      "[212]\teval-auc:0.925332\ttrain-auc:0.944308\n",
      "[213]\teval-auc:0.925344\ttrain-auc:0.944349\n",
      "[214]\teval-auc:0.925375\ttrain-auc:0.944399\n",
      "[215]\teval-auc:0.925419\ttrain-auc:0.944464\n",
      "[216]\teval-auc:0.925427\ttrain-auc:0.944566\n",
      "[217]\teval-auc:0.925470\ttrain-auc:0.944584\n",
      "[218]\teval-auc:0.925479\ttrain-auc:0.944661\n",
      "[219]\teval-auc:0.925519\ttrain-auc:0.944717\n",
      "[220]\teval-auc:0.925541\ttrain-auc:0.944761\n",
      "[221]\teval-auc:0.925570\ttrain-auc:0.944857\n",
      "[222]\teval-auc:0.925579\ttrain-auc:0.945025\n",
      "[223]\teval-auc:0.925588\ttrain-auc:0.945035\n",
      "[224]\teval-auc:0.925605\ttrain-auc:0.945056\n",
      "[225]\teval-auc:0.925591\ttrain-auc:0.945149\n",
      "[226]\teval-auc:0.925599\ttrain-auc:0.945164\n",
      "[227]\teval-auc:0.925629\ttrain-auc:0.945224\n",
      "[228]\teval-auc:0.925627\ttrain-auc:0.945290\n",
      "[229]\teval-auc:0.925609\ttrain-auc:0.945369\n",
      "[230]\teval-auc:0.925610\ttrain-auc:0.945406\n",
      "[231]\teval-auc:0.925644\ttrain-auc:0.945420\n",
      "[232]\teval-auc:0.925686\ttrain-auc:0.945544\n",
      "[233]\teval-auc:0.925710\ttrain-auc:0.945556\n",
      "[234]\teval-auc:0.925713\ttrain-auc:0.945615\n",
      "[235]\teval-auc:0.925717\ttrain-auc:0.945661\n",
      "[236]\teval-auc:0.925750\ttrain-auc:0.945677\n",
      "[237]\teval-auc:0.925761\ttrain-auc:0.945734\n",
      "[238]\teval-auc:0.925772\ttrain-auc:0.945741\n",
      "[239]\teval-auc:0.925761\ttrain-auc:0.945835\n",
      "[240]\teval-auc:0.925771\ttrain-auc:0.945903\n",
      "[241]\teval-auc:0.925783\ttrain-auc:0.946053\n",
      "[242]\teval-auc:0.925814\ttrain-auc:0.946065\n",
      "[243]\teval-auc:0.925811\ttrain-auc:0.946233\n",
      "[244]\teval-auc:0.925855\ttrain-auc:0.946328\n",
      "[245]\teval-auc:0.925863\ttrain-auc:0.946344\n",
      "[246]\teval-auc:0.925861\ttrain-auc:0.946392\n",
      "[247]\teval-auc:0.925894\ttrain-auc:0.946406\n",
      "[248]\teval-auc:0.925918\ttrain-auc:0.946467\n",
      "[249]\teval-auc:0.925955\ttrain-auc:0.946587\n",
      "[250]\teval-auc:0.925950\ttrain-auc:0.946654\n",
      "[251]\teval-auc:0.925991\ttrain-auc:0.946671\n",
      "[252]\teval-auc:0.926008\ttrain-auc:0.946679\n",
      "[253]\teval-auc:0.926004\ttrain-auc:0.946713\n",
      "[254]\teval-auc:0.926032\ttrain-auc:0.946844\n",
      "[255]\teval-auc:0.926061\ttrain-auc:0.946861\n",
      "[256]\teval-auc:0.926075\ttrain-auc:0.946868\n",
      "[257]\teval-auc:0.926100\ttrain-auc:0.946887\n",
      "[258]\teval-auc:0.926084\ttrain-auc:0.946971\n",
      "[259]\teval-auc:0.926090\ttrain-auc:0.947020\n",
      "[260]\teval-auc:0.926145\ttrain-auc:0.947143\n",
      "[261]\teval-auc:0.926140\ttrain-auc:0.947222\n",
      "[262]\teval-auc:0.926139\ttrain-auc:0.947270\n",
      "[263]\teval-auc:0.926137\ttrain-auc:0.947304\n",
      "[264]\teval-auc:0.926151\ttrain-auc:0.947318\n",
      "[265]\teval-auc:0.926118\ttrain-auc:0.947464\n",
      "[266]\teval-auc:0.926128\ttrain-auc:0.947474\n",
      "[267]\teval-auc:0.926110\ttrain-auc:0.947509\n",
      "[268]\teval-auc:0.926094\ttrain-auc:0.947546\n",
      "[269]\teval-auc:0.926106\ttrain-auc:0.947551\n",
      "[270]\teval-auc:0.926108\ttrain-auc:0.947594\n",
      "[271]\teval-auc:0.926114\ttrain-auc:0.947621\n",
      "[272]\teval-auc:0.926139\ttrain-auc:0.947658\n",
      "[273]\teval-auc:0.926143\ttrain-auc:0.947705\n",
      "[274]\teval-auc:0.926165\ttrain-auc:0.947716\n",
      "[275]\teval-auc:0.926170\ttrain-auc:0.947723\n",
      "[276]\teval-auc:0.926213\ttrain-auc:0.947826\n",
      "[277]\teval-auc:0.926227\ttrain-auc:0.947891\n",
      "[278]\teval-auc:0.926215\ttrain-auc:0.947993\n",
      "[279]\teval-auc:0.926239\ttrain-auc:0.948062\n",
      "[280]\teval-auc:0.926243\ttrain-auc:0.948105\n",
      "[281]\teval-auc:0.926264\ttrain-auc:0.948165\n",
      "[282]\teval-auc:0.926281\ttrain-auc:0.948172\n",
      "[283]\teval-auc:0.926301\ttrain-auc:0.948186\n",
      "[284]\teval-auc:0.926283\ttrain-auc:0.948219\n",
      "[285]\teval-auc:0.926308\ttrain-auc:0.948295\n",
      "[286]\teval-auc:0.926281\ttrain-auc:0.948339\n",
      "[287]\teval-auc:0.926294\ttrain-auc:0.948364\n",
      "[288]\teval-auc:0.926331\ttrain-auc:0.948415\n",
      "[289]\teval-auc:0.926338\ttrain-auc:0.948467\n",
      "[290]\teval-auc:0.926354\ttrain-auc:0.948474\n",
      "[291]\teval-auc:0.926361\ttrain-auc:0.948508\n",
      "[292]\teval-auc:0.926366\ttrain-auc:0.948559\n",
      "[293]\teval-auc:0.926382\ttrain-auc:0.948568\n",
      "[294]\teval-auc:0.926393\ttrain-auc:0.948599\n",
      "[295]\teval-auc:0.926414\ttrain-auc:0.948659\n",
      "[296]\teval-auc:0.926433\ttrain-auc:0.948717\n",
      "[297]\teval-auc:0.926438\ttrain-auc:0.948831\n",
      "[298]\teval-auc:0.926442\ttrain-auc:0.948839\n",
      "[299]\teval-auc:0.926477\ttrain-auc:0.948855\n"
     ]
    }
   ],
   "source": [
    "param = {'bst:max_depth':6, 'bst:eta':0.05, 'objective':'binary:logistic' }\n",
    "param['eval_metric'] = 'auc'\n",
    "\n",
    "evallist  = [(dtest,'eval'), (dtrain,'train')]\n",
    "num_round = 300\n",
    "bst = xgb.train(param, dtrain, num_round, evallist)"
   ]
  },
  {
   "cell_type": "markdown",
   "metadata": {},
   "source": [
    "### Качество XGBoost"
   ]
  },
  {
   "cell_type": "code",
   "execution_count": 211,
   "metadata": {
    "collapsed": false
   },
   "outputs": [
    {
     "name": "stdout",
     "output_type": "stream",
     "text": [
      "AUC 0.926476802131\n",
      "accuracy 0.873176723476\n"
     ]
    }
   ],
   "source": [
    "labels = dtest.get_label()\n",
    "preds = bst.predict(dtest)\n",
    "\n",
    "print 'AUC', roc_auc_score(labels, preds)\n",
    "print 'accuracy', accuracy_score(labels, np.array(preds > 0.5, dtype=int))"
   ]
  },
  {
   "cell_type": "code",
   "execution_count": 212,
   "metadata": {
    "collapsed": false
   },
   "outputs": [
    {
     "data": {
      "image/png": "[encoded data removed]",
      "text/plain": [
       "<matplotlib.figure.Figure at 0xd478e90>"
      ]
     },
     "metadata": {},
     "output_type": "display_data"
    }
   ],
   "source": [
    "fpr, tpr, thresholds = roc_curve(labels, preds)\n",
    "\n",
    "figsize(8,8)\n",
    "plt.plot(np.arange(0.,1.,1e-5),np.arange(0.,1.,1e-5), c='black')\n",
    "plt.plot(fpr,tpr, c='b')\n",
    "plt.title('ROC curve', size=20)\n",
    "plt.xlabel('False Positive Rate', size=20)\n",
    "plt.ylabel('True Positive Rate', size=20)\n",
    "plt.grid()"
   ]
  }
 ],
 "metadata": {
  "kernelspec": {
   "display_name": "Python 2",
   "language": "python",
   "name": "python2"
  },
  "language_info": {
   "codemirror_mode": {
    "name": "ipython",
    "version": 2
   },
   "file_extension": ".py",
   "mimetype": "text/x-python",
   "name": "python",
   "nbconvert_exporter": "python",
   "pygments_lexer": "ipython2",
   "version": "2.7.3"
  }
 },
 "nbformat": 4,
 "nbformat_minor": 0
}
